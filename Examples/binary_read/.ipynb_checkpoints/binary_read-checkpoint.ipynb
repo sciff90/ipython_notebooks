{
 "metadata": {
  "name": ""
 },
 "nbformat": 3,
 "nbformat_minor": 0,
 "worksheets": [
  {
   "cells": [
    {
     "cell_type": "code",
     "collapsed": false,
     "input": [
      "from struct import *\n",
      "filename = './data/test_data_binary.dat'\n",
      "binfile=open(filename,'rb')\n",
      "read_size = calcsize('=iifi')\n",
      "(pad1,int_test,flt_test,pad2)=unpack('iii',binfile.read(read_size))\n",
      "print int_test\n",
      "print flt_test"
     ],
     "language": "python",
     "metadata": {},
     "outputs": [
      {
       "output_type": "stream",
       "stream": "stdout",
       "text": [
        "12\n"
       ]
      }
     ],
     "prompt_number": 9
    }
   ],
   "metadata": {}
  }
 ]
}