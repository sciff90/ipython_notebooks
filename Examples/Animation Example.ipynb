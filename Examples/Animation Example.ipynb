{
 "metadata": {
  "name": ""
 },
 "nbformat": 3,
 "nbformat_minor": 0,
 "worksheets": [
  {
   "cells": [
    {
     "cell_type": "code",
     "collapsed": false,
     "input": [
      "%pylab\n",
      "import matplotlib.animation as animation"
     ],
     "language": "python",
     "metadata": {},
     "outputs": [
      {
       "output_type": "stream",
       "stream": "stdout",
       "text": [
        "Using matplotlib backend: TkAgg\n",
        "Populating the interactive namespace from numpy and matplotlib\n"
       ]
      }
     ],
     "prompt_number": 8
    },
    {
     "cell_type": "code",
     "collapsed": false,
     "input": [
      "def data_gen():\n",
      "    t = data_gen.t\n",
      "    cnt = 0\n",
      "    while cnt < 300:\n",
      "        cnt+=1\n",
      "        t += 0.05\n",
      "        yield t, sin(2*np.pi*t) * exp(-t/10.)\n",
      "data_gen.t = 0\n",
      "\n",
      "fig, ax = subplots()\n",
      "line, = ax.plot([], [], lw=2)\n",
      "ax.set_ylim(-1.1, 1.1)\n",
      "ax.set_xlim(0, 30)\n",
      "ax.grid()\n",
      "xdata, ydata = [], []\n",
      "def run(data):\n",
      "    # update the data\n",
      "    t,y = data\n",
      "    xdata.append(t)\n",
      "    ydata.append(y)\n",
      "    xmin, xmax = ax.get_xlim()\n",
      "\n",
      "    if t >= xmax:\n",
      "        ax.set_xlim(xmin, 2*xmax)\n",
      "        ax.figure.canvas.draw()\n",
      "    line.set_data(xdata, ydata)\n",
      "\n",
      "    return line,\n",
      "\n",
      "ani = animation.FuncAnimation(fig, run, data_gen, blit=True, interval=10,\n",
      "    repeat=True)\n",
      "plt.show()"
     ],
     "language": "python",
     "metadata": {},
     "outputs": [],
     "prompt_number": 16
    },
    {
     "cell_type": "code",
     "collapsed": false,
     "input": [],
     "language": "python",
     "metadata": {},
     "outputs": []
    }
   ],
   "metadata": {}
  }
 ]
}